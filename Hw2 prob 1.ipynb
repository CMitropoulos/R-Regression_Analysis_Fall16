{
 "cells": [
  {
   "cell_type": "code",
   "execution_count": 1,
   "metadata": {
    "collapsed": false
   },
   "outputs": [
    {
     "name": "stdout",
     "output_type": "stream",
     "text": [
      "y =\n",
      "\n",
      "    1.2800\n",
      "    1.8500\n",
      "    1.1200\n",
      "    1.9600\n",
      "    1.0600\n",
      "    2.5500\n",
      "    1.0800\n",
      "    1.6900\n",
      "    1.0000\n",
      "    1.8800\n",
      "    1.0200\n",
      "    2.5500\n",
      "\n",
      "\n",
      "x =\n",
      "\n",
      "    1.0000         0    1.0000         0\n",
      "    1.0000    0.2000    1.0000    0.2000\n",
      "    1.0000    0.4000    1.0000    0.4000\n",
      "    1.0000    0.6000    1.0000    0.6000\n",
      "    1.0000    0.8000    1.0000    0.8000\n",
      "    1.0000    1.0000    1.0000    1.0000\n",
      "    1.0000         0         0         0\n",
      "    1.0000    0.2000         0         0\n",
      "    1.0000    0.4000         0         0\n",
      "    1.0000    0.6000         0         0\n",
      "    1.0000    0.8000         0         0\n",
      "    1.0000    1.0000         0         0\n"
     ]
    }
   ],
   "source": [
    "y=[1.28, 1.85, 1.12, 1.96,1.06,2.55, 1.08,1.69,1,1.88,1.02,2.55]'\n",
    "x = [ones(12,1) [0 0.2 0.4 0.6 0.8 1 0 0.2 0.4 0.6 0.8 1]' [ 1 1 1 1 1 1 0 0 0 0 0 0 ]' [  0 0.2 0.4 0.6 0.8 1 0 0 0 0 0 0]']"
   ]
  },
  {
   "cell_type": "code",
   "execution_count": 2,
   "metadata": {
    "collapsed": false
   },
   "outputs": [
    {
     "name": "stdout",
     "output_type": "stream",
     "text": [
      "b_hat =\n",
      "\n",
      "    1.0924\n",
      "    0.8886\n",
      "    0.2000\n",
      "   -0.2000\n"
     ]
    }
   ],
   "source": [
    "b_hat = inv(x'*x)*x'*y"
   ]
  },
  {
   "cell_type": "markdown",
   "metadata": {
    "collapsed": true
   },
   "source": [
    "<h1> Test on individual Regressors </h2>"
   ]
  },
  {
   "cell_type": "code",
   "execution_count": 12,
   "metadata": {
    "collapsed": false
   },
   "outputs": [
    {
     "name": "stdout",
     "output_type": "stream",
     "text": [
      "t2 =\n",
      "\n",
      "    0.3328\n",
      "\n",
      "\n",
      "t3 =\n",
      "\n",
      "   -0.2015\n"
     ]
    }
   ],
   "source": [
    "sigma_square = (y'*y - b_hat'*x'*y)/(12-4);\n",
    "C = inv(x'*x);\n",
    "t2 = b_hat(3)/sqrt(sigma_square*C(3,3))\n",
    "t3 = b_hat(4)/sqrt(sigma_square*C(4,4))\n"
   ]
  },
  {
   "cell_type": "markdown",
   "metadata": {},
   "source": [
    "<h2>Partial F test</h2>"
   ]
  },
  {
   "cell_type": "code",
   "execution_count": 17,
   "metadata": {
    "collapsed": false
   },
   "outputs": [
    {
     "name": "stdout",
     "output_type": "stream",
     "text": [
      "SSR =\n",
      "\n",
      "    0.9146\n",
      "\n",
      "\n",
      "MSRes =\n",
      "\n",
      "    0.3448\n"
     ]
    }
   ],
   "source": [
    "% FULL MODEL\n",
    "SSR = b_hat'*x'*y - sum(y)^2/12\n",
    "MSRes = (y'*y - b_hat'*x'*y)/(12-4)"
   ]
  },
  {
   "cell_type": "code",
   "execution_count": 16,
   "metadata": {
    "collapsed": false
   },
   "outputs": [
    {
     "name": "stdout",
     "output_type": "stream",
     "text": [
      "SSR_red =\n",
      "\n",
      "    0.8706\n"
     ]
    }
   ],
   "source": [
    "%Reduced Test\n",
    "x_red = x(:,1:2);\n",
    "b_hat_red = inv(x_red'*x_red)*x_red'*y;\n",
    "SSR_red = b_hat_red'*x_red'*y - sum(y)^2/12"
   ]
  },
  {
   "cell_type": "code",
   "execution_count": 18,
   "metadata": {
    "collapsed": false
   },
   "outputs": [
    {
     "name": "stdout",
     "output_type": "stream",
     "text": [
      "F =\n",
      "\n",
      "    0.0638\n"
     ]
    }
   ],
   "source": [
    "F = ((SSR - SSR_red)/2)/MSRes"
   ]
  },
  {
   "cell_type": "code",
   "execution_count": 19,
   "metadata": {
    "collapsed": false
   },
   "outputs": [
    {
     "name": "stdout",
     "output_type": "stream",
     "text": [
      "x0 =\n",
      "\n",
      "         0         0    1.0000    0.6000\n"
     ]
    }
   ],
   "source": [
    "x0 = x(4,:)-x(10,:)"
   ]
  },
  {
   "cell_type": "code",
   "execution_count": 20,
   "metadata": {
    "collapsed": false
   },
   "outputs": [
    {
     "name": "stdout",
     "output_type": "stream",
     "text": [
      "y0 =\n",
      "\n",
      "    0.0800\n"
     ]
    }
   ],
   "source": [
    "y0=x0*b_hat"
   ]
  },
  {
   "cell_type": "code",
   "execution_count": 24,
   "metadata": {
    "collapsed": false
   },
   "outputs": [
    {
     "name": "stdout",
     "output_type": "stream",
     "text": [
      "ans =\n",
      "\n",
      "   -0.7324\n",
      "\n",
      "\n",
      "ans =\n",
      "\n",
      "    0.8924\n"
     ]
    }
   ],
   "source": [
    "y0-2.3*sqrt(MSRes*x0*C*x0')\n",
    "y0+2.3*sqrt(MSRes*x0*C*x0')"
   ]
  },
  {
   "cell_type": "code",
   "execution_count": null,
   "metadata": {
    "collapsed": true
   },
   "outputs": [],
   "source": []
  }
 ],
 "metadata": {
  "kernelspec": {
   "display_name": "Matlab",
   "language": "matlab",
   "name": "matlab"
  },
  "language_info": {
   "codemirror_mode": "octave",
   "file_extension": ".m",
   "help_links": [
    {
     "text": "MetaKernel Magics",
     "url": "https://github.com/calysto/metakernel/blob/master/metakernel/magics/README.md"
    }
   ],
   "mimetype": "text/x-octave",
   "name": "matlab",
   "version": "0.11.0"
  }
 },
 "nbformat": 4,
 "nbformat_minor": 1
}
