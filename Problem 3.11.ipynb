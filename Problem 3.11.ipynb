{
 "cells": [
  {
   "cell_type": "code",
   "execution_count": 6,
   "metadata": {
    "collapsed": false
   },
   "outputs": [],
   "source": [
    "x1=[415 550 415 550 415 550 415 550 415 550 415 550 415 550 415 550]';\n",
    "x2=[25 25 95 95 25 25 95 95 25 25 95 95 25 25 95 95]';\n",
    "x3=[5 5 5 5 15 15 15 15 5 5 5 5 15 15 15 15]';\n",
    "x4=[40 40 40 40 40 40 40 40 60 60 60 60 60 60 60 60]';\n",
    "x5=[1.28 4.05 4.05 1.28 4.05 1.28 1.28 4.05 4.05 1.28 1.28 4.05 1.28 4.05 4.05 1.28]';\n",
    "y=[63 21 36 99 24 66 71 54 23 74 80 33 63 21 44 96]';\n",
    "x=[ones(size(x1)) x1 x2 x3 x4 x5 ];"
   ]
  },
  {
   "cell_type": "code",
   "execution_count": 8,
   "metadata": {
    "collapsed": false
   },
   "outputs": [
    {
     "name": "stdout",
     "output_type": "stream",
     "text": [
      "beta_hat =\n",
      "\n",
      "   52.0790\n",
      "    0.0556\n",
      "    0.2821\n",
      "    0.1250\n",
      "    0.0000\n",
      "  -16.0650\n"
     ]
    }
   ],
   "source": [
    "beta_hat = inv(x'*x)*x'*y"
   ]
  },
  {
   "cell_type": "markdown",
   "metadata": {},
   "source": [
    "*************************************************************\n",
    "**Test for significance of regression**"
   ]
  },
  {
   "cell_type": "code",
   "execution_count": 16,
   "metadata": {
    "collapsed": false
   },
   "outputs": [
    {
     "name": "stdout",
     "output_type": "stream",
     "text": [
      "SSR =\n",
      "\n",
      "   9.7125e+03\n",
      "\n",
      "\n",
      "SSRes =\n",
      "\n",
      "  650.5000\n",
      "\n",
      "\n",
      "F0 =\n",
      "\n",
      "   29.8616\n"
     ]
    }
   ],
   "source": [
    "n=size(y,1);\n",
    "k=size(beta_hat,1)-1;\n",
    "SSR = beta_hat'*x'*y - sum(y)^2/n \n",
    "SSRes = y'*y - beta_hat'*x'*y\n",
    "F0 = (SSR/k)/(SSRes/(n-k-1))"
   ]
  },
  {
   "cell_type": "code",
   "execution_count": null,
   "metadata": {
    "collapsed": true
   },
   "outputs": [],
   "source": []
  }
 ],
 "metadata": {
  "kernelspec": {
   "display_name": "Matlab",
   "language": "matlab",
   "name": "matlab"
  },
  "language_info": {
   "codemirror_mode": "octave",
   "file_extension": ".m",
   "help_links": [
    {
     "text": "MetaKernel Magics",
     "url": "https://github.com/calysto/metakernel/blob/master/metakernel/magics/README.md"
    }
   ],
   "mimetype": "text/x-octave",
   "name": "matlab",
   "version": "0.11.0"
  }
 },
 "nbformat": 4,
 "nbformat_minor": 1
}
