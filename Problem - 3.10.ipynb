{
 "cells": [
  {
   "cell_type": "markdown",
   "metadata": {},
   "source": [
    " <h2> Matlab code for Chapter 3 problems </h2>\n",
    "<h3> the data is taken from R MPV package </h3>\n",
    "<h3> PROBLEM 3.10 </h3>"
   ]
  },
  {
   "cell_type": "code",
   "execution_count": 54,
   "metadata": {
    "collapsed": false
   },
   "outputs": [],
   "source": [
    "Clarity = [1 1 1 1 1 1 1 1 1 1 1 0.5 0.8 0.7 1 0.9 1 1 1 0.9 0.9 1 0.7 0.7 1 1 1 1 1 1 1 0.8 1 1 0.8 0.8 0.8 0.8]';\n",
    "Aroma = [3.3 4.4 3.9 3.9 5.6 4.6 4.8 5.3 4.3 4.3 5.1 3.3 5.9 7.7 7.1 5.5 6.3 5 4.6 3.4 6.4 5.5 4.7 4.1 6 4.3 3.9 5.1 3.9 4.5 5.2 4.2 3.3 6.8 5 3.5 4.3 5.2]';\n",
    "Body  = [2.8 4.9 5.3 2.6 5.1 4.7 4.8 4.5 4.3 3.9 4.3 5.4 5.7 6.6 4.4 5.6 5.4 5.5 4.1 5 5.4 5.3 4.1 4 5.4 4.6 4 4.9 4.4 3.7 4.3 3.8 3.5 5 5.7 4.7 5.5 4.8]';\n",
    "Flavor  = [3.1 3.5 4.8 3.1 5.5 5 4.8 4.3 3.9 4.7 4.5 4.3 7 6.7 5.8 5.6 4.8 5.5 4.3 3.4 6.6 5.3 5 4.1 5.7 4.7 5.1 5 5 2.9 5 3 4.3 6 5.5 4.2 3.5 5.7]';\n",
    "Oakiness   = [4.1 3.9 4.7 3.6  5.1 4.1 3.3 5.2 2.9 3.9 3.6 3.6 4.1 3.7 4.1 4.4 4.6 4.1 3.1 3.4 4.8 3.8 3.7 4 4.7 4.9 5.1 5.1 4.4 3.9 6 4.7 4.5 5.2 4.8 3.3 5.8 3.5]';\n",
    "Quality = [9.8 12.6 11.9 11.1 13.3 12.8 12.8 12 13.6 13.9 14.4 12.3 16.1 16.1 15.5 15.5 13.8 13.8 11.3 7.9 15.1 13.5 10.8 9.5 12.7 11.6 11.7 11.9 10.8 8.5 10.7 9.1 12.1 14.9 13.5 12.2 10.3 13.2]';\n",
    "y = Quality;\n",
    "x = [ones(size(Clarity)) Clarity  Aroma  Body  Flavor Oakiness];\n",
    "\n"
   ]
  },
  {
   "cell_type": "markdown",
   "metadata": {},
   "source": [
    "<h3><li> Calculate coefficients (beta hat)</li> </h3>"
   ]
  },
  {
   "cell_type": "code",
   "execution_count": 55,
   "metadata": {
    "collapsed": false
   },
   "outputs": [],
   "source": [
    "beta_hat = inv(x'*x)*x'*y;"
   ]
  },
  {
   "cell_type": "markdown",
   "metadata": {},
   "source": [
    "<h3><li> Test for significance of regression</li> </h3>"
   ]
  },
  {
   "cell_type": "code",
   "execution_count": 58,
   "metadata": {
    "collapsed": false
   },
   "outputs": [
    {
     "name": "stdout",
     "output_type": "stream",
     "text": [
      "n =\n",
      "\n",
      "    38\n",
      "\n",
      "\n",
      "F0 =\n",
      "\n",
      "   16.5062\n"
     ]
    }
   ],
   "source": [
    "p=size(beta_hat,1);\n",
    "k=p-1;\n",
    "n=size(y,1)\n",
    "SSR = beta_hat'*x'*y - sum(y)^2/n ;\n",
    "SSRes = y'*y - beta_hat'*x'*y ;\n",
    "F0 = (SSR/k)/(SSRes/(n-k-1))"
   ]
  },
  {
   "cell_type": "markdown",
   "metadata": {},
   "source": [
    "<h3><li> Use t tests to assess the contribution of each regressor</li> </h3>\n",
    "<b> compare with t_0.01,n-k-1 = 2,43 </b> "
   ]
  },
  {
   "cell_type": "code",
   "execution_count": 57,
   "metadata": {
    "collapsed": false
   },
   "outputs": [
    {
     "name": "stdout",
     "output_type": "stream",
     "text": [
      "t1 =\n",
      "\n",
      "    1.3485\n",
      "\n",
      "\n",
      "t2 =\n",
      "\n",
      "    1.7712\n",
      "\n",
      "\n",
      "t3 =\n",
      "\n",
      "    0.8214\n",
      "\n",
      "\n",
      "t4 =\n",
      "\n",
      "    3.8371\n",
      "\n",
      "\n",
      "t5 =\n",
      "\n",
      "   -2.5222\n"
     ]
    }
   ],
   "source": [
    "C = inv(x'*x);\n",
    "MSRes = SSRes/(n-p);\n",
    "sigma_square = MSRes ;\n",
    "t1 = beta_hat(2)/sqrt(sigma_square*C(2,2))\n",
    "t2 = beta_hat(3)/sqrt(sigma_square*C(3,3))\n",
    "t3 = beta_hat(4)/sqrt(sigma_square*C(4,4))\n",
    "t4 = beta_hat(5)/sqrt(sigma_square*C(5,5))\n",
    "t5 = beta_hat(6)/sqrt(sigma_square*C(6,6))\n"
   ]
  },
  {
   "cell_type": "markdown",
   "metadata": {},
   "source": [
    "<h3><li> Calculate R^2</li> </h3>\n"
   ]
  },
  {
   "cell_type": "code",
   "execution_count": 59,
   "metadata": {
    "collapsed": false
   },
   "outputs": [
    {
     "name": "stdout",
     "output_type": "stream",
     "text": [
      "R_square =\n",
      "\n",
      "    0.7206\n"
     ]
    }
   ],
   "source": [
    "R_square = SSR/(SSR+SSRes)"
   ]
  },
  {
   "cell_type": "markdown",
   "metadata": {},
   "source": [
    "<h3><li> Calculate 95% Confidence Interval for the regressor coefficient Flavor</li> </h3>"
   ]
  },
  {
   "cell_type": "code",
   "execution_count": 67,
   "metadata": {
    "collapsed": false
   },
   "outputs": [
    {
     "name": "stdout",
     "output_type": "stream",
     "text": [
      "CI =\n",
      "\n",
      "    0.5472    1.7895\n"
     ]
    }
   ],
   "source": [
    "t_025_32 = 2.04 ;\n",
    "beta_hat(5) - t_025_32*sqrt(sigma_square*C(5,5));\n",
    "beta_hat(5) + t_025_32*sqrt(sigma_square*C(5,5));\n",
    "CI = [beta_hat(5) - t_025_32*sqrt(sigma_square*C(5,5)),beta_hat(5) + t_025_32*sqrt(sigma_square*C(5,5))]"
   ]
  },
  {
   "cell_type": "markdown",
   "metadata": {},
   "source": [
    "----------------------------------------------------------------------------------------------------------\n"
   ]
  },
  {
   "cell_type": "markdown",
   "metadata": {},
   "source": [
    "<h3> PROBLEM 3.11 </h3>"
   ]
  },
  {
   "cell_type": "code",
   "execution_count": null,
   "metadata": {
    "collapsed": true
   },
   "outputs": [],
   "source": []
  }
 ],
 "metadata": {
  "kernelspec": {
   "display_name": "Matlab",
   "language": "matlab",
   "name": "matlab"
  },
  "language_info": {
   "codemirror_mode": "octave",
   "file_extension": ".m",
   "help_links": [
    {
     "text": "MetaKernel Magics",
     "url": "https://github.com/calysto/metakernel/blob/master/metakernel/magics/README.md"
    }
   ],
   "mimetype": "text/x-octave",
   "name": "matlab",
   "version": "0.11.0"
  }
 },
 "nbformat": 4,
 "nbformat_minor": 1
}
