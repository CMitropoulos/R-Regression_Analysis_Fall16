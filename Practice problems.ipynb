{
 "cells": [
  {
   "cell_type": "code",
   "execution_count": 2,
   "metadata": {
    "collapsed": false
   },
   "outputs": [
    {
     "data": {
      "text/plain": [
       "\n",
       "Call:\n",
       "lm(formula = usage ~ temp)\n",
       "\n",
       "Residuals:\n",
       "    Min      1Q  Median      3Q     Max \n",
       "-2.5629 -1.2581 -0.2550  0.8681  4.0581 \n",
       "\n",
       "Coefficients:\n",
       "            Estimate Std. Error t value Pr(>|t|)    \n",
       "(Intercept) -6.33209    1.67005  -3.792  0.00353 ** \n",
       "temp         9.20847    0.03382 272.255  < 2e-16 ***\n",
       "---\n",
       "Signif. codes:  0 ‘***’ 0.001 ‘**’ 0.01 ‘*’ 0.05 ‘.’ 0.1 ‘ ’ 1\n",
       "\n",
       "Residual standard error: 1.946 on 10 degrees of freedom\n",
       "Multiple R-squared:  0.9999,\tAdjusted R-squared:  0.9999 \n",
       "F-statistic: 7.412e+04 on 1 and 10 DF,  p-value: < 2.2e-16\n"
      ]
     },
     "metadata": {},
     "output_type": "display_data"
    }
   ],
   "source": [
    "#problem 2.12 - page 61\n",
    "\n",
    "temp = c(21, 24, 32, 47, 50, 59, 68, 74, 62, 50, 41 ,30)\n",
    "usage = c(185.79, 214.47, 288.03, 424.84, 454.68, 539.03, 621.55, 675.06, 562.03, 452.93, 369.95, 273.98)\n",
    "\n",
    "y.lm <- lm(usage~temp)\n",
    "summary(y.lm)"
   ]
  },
  {
   "cell_type": "code",
   "execution_count": 60,
   "metadata": {
    "collapsed": false
   },
   "outputs": [
    {
     "data": {
      "text/html": [
       "<table>\n",
       "<thead><tr><th></th><th scope=col>Df</th><th scope=col>Sum Sq</th><th scope=col>Mean Sq</th><th scope=col>F value</th><th scope=col>Pr(&gt;F)</th></tr></thead>\n",
       "<tbody>\n",
       "\t<tr><th scope=row>temp</th><td> 1          </td><td>280589.5653 </td><td>280589.56527</td><td>74122.78    </td><td>1.099192e-20</td></tr>\n",
       "\t<tr><th scope=row>Residuals</th><td>10          </td><td>    37.8547 </td><td>     3.78547</td><td>      NA    </td><td>          NA</td></tr>\n",
       "</tbody>\n",
       "</table>\n"
      ],
      "text/latex": [
       "\\begin{tabular}{r|lllll}\n",
       "  & Df & Sum Sq & Mean Sq & F value & Pr(>F)\\\\\n",
       "\\hline\n",
       "\ttemp &  1           & 280589.5653  & 280589.56527 & 74122.78     & 1.099192e-20\\\\\n",
       "\tResiduals & 10           &     37.8547  &      3.78547 &       NA     &           NA\\\\\n",
       "\\end{tabular}\n"
      ],
      "text/markdown": [
       "\n",
       "| <!--/--> | Df | Sum Sq | Mean Sq | F value | Pr(>F) | \n",
       "|---|---|\n",
       "| temp |  1           | 280589.5653  | 280589.56527 | 74122.78     | 1.099192e-20 | \n",
       "| Residuals | 10           |     37.8547  |      3.78547 |       NA     |           NA | \n",
       "\n",
       "\n"
      ],
      "text/plain": [
       "          Df Sum Sq      Mean Sq      F value  Pr(>F)      \n",
       "temp       1 280589.5653 280589.56527 74122.78 1.099192e-20\n",
       "Residuals 10     37.8547      3.78547       NA           NA"
      ]
     },
     "metadata": {},
     "output_type": "display_data"
    },
    {
     "data": {
      "text/html": [
       "<table>\n",
       "<tbody>\n",
       "\t<tr><td>74233.19</td></tr>\n",
       "</tbody>\n",
       "</table>\n"
      ],
      "text/latex": [
       "\\begin{tabular}{l}\n",
       "\t 74233.19\\\\\n",
       "\\end{tabular}\n"
      ],
      "text/markdown": [
       "\n",
       "| 74233.19 | \n",
       "\n",
       "\n"
      ],
      "text/plain": [
       "     [,1]    \n",
       "[1,] 74233.19"
      ]
     },
     "metadata": {},
     "output_type": "display_data"
    }
   ],
   "source": [
    "anova(y.lm)\n",
    "x = matrix(c(1,1,1,1,1,1,1,1,1,1,1,1,21, 24, 32, 47, 50, 59, 68, 74, 62, 50, 41 ,30),nrow=12, ncol=2)\n",
    "betahat = matrix(c(-6.33, 9.21),nrow=2,ncol=1)\n",
    "y=usage\n",
    "SSRes = sum((y-fitted(y.lm))^2)\n",
    "SSR = t(betahat)%*%t(x)%*%y - sum(y)^2/12\n",
    "F=(SSR)/(SSRes/10)\n",
    "F"
   ]
  },
  {
   "cell_type": "code",
   "execution_count": null,
   "metadata": {
    "collapsed": false
   },
   "outputs": [],
   "source": []
  },
  {
   "cell_type": "code",
   "execution_count": null,
   "metadata": {
    "collapsed": true
   },
   "outputs": [],
   "source": []
  }
 ],
 "metadata": {
  "kernelspec": {
   "display_name": "R",
   "language": "R",
   "name": "ir"
  },
  "language_info": {
   "codemirror_mode": "r",
   "file_extension": ".r",
   "mimetype": "text/x-r-source",
   "name": "R",
   "pygments_lexer": "r",
   "version": "3.3.2"
  }
 },
 "nbformat": 4,
 "nbformat_minor": 1
}
