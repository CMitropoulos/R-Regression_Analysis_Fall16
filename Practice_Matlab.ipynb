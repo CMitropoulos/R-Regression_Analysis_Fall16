{
 "cells": [
  {
   "cell_type": "code",
   "execution_count": 8,
   "metadata": {
    "collapsed": false
   },
   "outputs": [
    {
     "name": "stdout",
     "output_type": "stream",
     "text": [
      "SSR =\n",
      "\n",
      "   47.3102\n",
      "\n",
      "\n",
      "SSRes =\n",
      "\n",
      "   8.9091e-05\n"
     ]
    }
   ],
   "source": [
    "x2=[0.25,0.50,0.75,1,1.25,1.5,1.75,2,2.25,2.5];\n",
    "x2=x2';\n",
    "x3=x2.^2;\n",
    "x1=ones(size(x2));\n",
    "x=[x1 x2 x3];\n",
    "beta_hat=[1.633\n",
    "-1.23218181818182\n",
    "1.49454545454545];\n",
    "y=[1.42,1.39,1.55,1.89,2.43,3.15,4.05,5.15,6.43,7.89]';\n",
    "SSR=beta_hat'*x'*y -sum(y)^2/10 \n",
    "SSRes = y'*y-beta_hat'*x'*y"
   ]
  },
  {
   "cell_type": "code",
   "execution_count": 9,
   "metadata": {
    "collapsed": false,
    "scrolled": true
   },
   "outputs": [
    {
     "name": "stdout",
     "output_type": "stream",
     "text": [
      "F0 =\n",
      "\n",
      "   1.8586e+06\n"
     ]
    }
   ],
   "source": [
    "F0=(SSR/2)/(SSRes/7)"
   ]
  },
  {
   "cell_type": "code",
   "execution_count": 10,
   "metadata": {
    "collapsed": false
   },
   "outputs": [
    {
     "name": "stdout",
     "output_type": "stream",
     "text": [
      "b_red =\n",
      "\n",
      "   -0.4220\n",
      "    2.8778\n",
      "\n",
      "\n",
      "SSR_b0b1 =\n",
      "\n",
      "   42.7032\n",
      "\n",
      "\n",
      "SSR_b2 =\n",
      "\n",
      "    4.6069\n"
     ]
    }
   ],
   "source": [
    "x_red = [x1 x2];\n",
    "b_red = inv(x_red'*x_red)*x_red'*y\n",
    "SSR_b0b1 = b_red'*x_red'*y - sum(y)^2/10\n",
    "SSR_b2=SSR-SSR_b0b1"
   ]
  },
  {
   "cell_type": "code",
   "execution_count": 18,
   "metadata": {
    "collapsed": false
   },
   "outputs": [
    {
     "name": "stdout",
     "output_type": "stream",
     "text": [
      "F0 =\n",
      "\n",
      "   3.6197e+05\n",
      "\n",
      "\n",
      "y =\n",
      "\n",
      "    1.4200\n",
      "    1.3900\n",
      "    1.5500\n",
      "    1.8900\n",
      "    2.4300\n",
      "    3.1500\n",
      "    4.0500\n",
      "    5.1500\n",
      "    6.4300\n",
      "    7.8900\n"
     ]
    }
   ],
   "source": [
    "F0=SSR_b2/(SSRes/7)   \n",
    "y"
   ]
  },
  {
   "cell_type": "code",
   "execution_count": 17,
   "metadata": {
    "collapsed": false
   },
   "outputs": [
    {
     "name": "stderr",
     "output_type": "stream",
     "text": [
      "\u001b[0;31mResponse variable must be a numeric vector.\n",
      "\u001b[0m"
     ]
    }
   ],
   "source": [
    "LinearModel.fit(y',x)"
   ]
  },
  {
   "cell_type": "code",
   "execution_count": null,
   "metadata": {
    "collapsed": true
   },
   "outputs": [],
   "source": []
  }
 ],
 "metadata": {
  "kernelspec": {
   "display_name": "Matlab",
   "language": "matlab",
   "name": "matlab"
  },
  "language_info": {
   "codemirror_mode": "octave",
   "file_extension": ".m",
   "help_links": [
    {
     "text": "MetaKernel Magics",
     "url": "https://github.com/calysto/metakernel/blob/master/metakernel/magics/README.md"
    }
   ],
   "mimetype": "text/x-octave",
   "name": "matlab",
   "version": "0.11.0"
  }
 },
 "nbformat": 4,
 "nbformat_minor": 1
}
